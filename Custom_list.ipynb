{
 "cells": [
  {
   "cell_type": "code",
   "execution_count": 251,
   "id": "25217a47-3997-44bc-ae5d-5e7274460b93",
   "metadata": {},
   "outputs": [
    {
     "name": "stdout",
     "output_type": "stream",
     "text": [
      "[10,20,30]\n",
      "20\n",
      "2\n"
     ]
    }
   ],
   "source": [
    "import ctypes\n",
    "\n",
    "class MyList:\n",
    "    def __init__(self):\n",
    "        self.size = 1\n",
    "        self.n = 0\n",
    "        # Create a C type array with size = self.size\n",
    "        self.A = self.__make_array(self.size)\n",
    "        \n",
    "    def __len__(self):\n",
    "        return self.n\n",
    "    \n",
    "    def __str__(self):\n",
    "        # For printing in the form [1, 2, 3, 4]\n",
    "        result = \"\"\n",
    "        for j in range(self.n):\n",
    "            result += str(self.A[j]) + \",\"\n",
    "        return \"[\" + result[:-1] + \"]\"  # Remove the trailing comma\n",
    "    \n",
    "    def __getitem__(self, index):\n",
    "        # Indexing\n",
    "        if 0 <= index < self.n:\n",
    "            return self.A[index]\n",
    "        else:\n",
    "            raise IndexError(\"Index out of range\")\n",
    "        \n",
    "    def find(self, item):\n",
    "        for j in range(self.n):\n",
    "            if self.A[j] == item:\n",
    "                return j\n",
    "        raise ValueError(f\"{item} not found in the list\")\n",
    "\n",
    "    def insert(self,pos,item):\n",
    "        if self.n == self.size:\n",
    "            self.__resize(self.size*2)\n",
    "\n",
    "        for j in range(self.n,pos,-1) :#since it is reverse loop\n",
    "            self.A[j]=self.A[j-1] # We are shifting and copying the elements in right side of the list\n",
    "\n",
    "        self.A[pos]=item\n",
    "        self.n = self.n +1\n",
    "\n",
    "    def remove(self,item):\n",
    "        #remove by the values\n",
    "        pos = self.find(item)\n",
    "        if type(pos)== int:\n",
    "            self.__delitem__(pos)\n",
    "        else:\n",
    "            return pos\n",
    "\n",
    "    def max(self):\n",
    "        if self.n == 0:\n",
    "            raise ValueError(\"The list is empty\")\n",
    "        max_value = self.A[0]\n",
    "        for j in range(1,self.n):\n",
    "            if self.A[j] >= max_value:\n",
    "                max_value = self.A[j]\n",
    "\n",
    "        return max_value \n",
    "\n",
    "    def min(self):\n",
    "        if self.n == 0:\n",
    "            return \"The list is empty\"\n",
    "        min_value = self.A[0]\n",
    "        for j in range(1,self.n):\n",
    "            if self.A[j]<= min_value:\n",
    "                min_value = self.A[j]\n",
    "        \n",
    "        return min_value\n",
    "        \n",
    "    \n",
    "    #magic method\n",
    "    def __delitem__(self,pos):\n",
    "        #delete by index psoition\n",
    "        if 0 <=pos<self.n:\n",
    "            for j in range(pos,self.n-1):\n",
    "                self.A[j]= self.A[j+1] # we are shifting position in right side in order to delete that element       \n",
    "            \n",
    "            self.n = self.n -1\n",
    "        else :\n",
    "            raise IndexError(\"Index value out of range\")\n",
    "\n",
    "\n",
    "    \n",
    "    def append(self, item):\n",
    "        # Check if there's space to append\n",
    "        if self.n == self.size:\n",
    "            # Resize the array\n",
    "            self.__resize(self.size * 2)\n",
    "        \n",
    "        # Append the item\n",
    "        self.A[self.n] = item\n",
    "        self.n += 1  \n",
    "        \n",
    "    \n",
    "    def pop(self):\n",
    "        if self.n ==0:\n",
    "            return \"Empty list\"\n",
    "        \n",
    "        print(self.A[self.n-1])\n",
    "        self.n = self.n -1\n",
    "    \n",
    "        \n",
    "    def clear(self):\n",
    "        self.n = 0\n",
    "        self.size = 1\n",
    "    \n",
    "    def __resize(self, new_capacity):\n",
    "        # Create a new array with the new capacity\n",
    "        B = self.__make_array(new_capacity)\n",
    "        self.size = new_capacity\n",
    "        # Copy the contents of A to B\n",
    "        for i in range(self.n):\n",
    "            B[i] = self.A[i]\n",
    "        # Reassign A to the new array\n",
    "        self.A = B\n",
    "\n",
    "    def __make_array(self, capacity):\n",
    "        # Create a ctypes array (static, referential) with size = capacity\n",
    "        return (capacity * ctypes.py_object)()\n",
    "\n",
    "# Example Usage\n",
    "lst = MyList()\n",
    "lst.append(10)\n",
    "lst.append(20)\n",
    "lst.append(30)\n",
    "\n",
    "print(lst)          # Output: [10,20,30]\n",
    "print(lst[1])       # Output: 20\n",
    "print(lst.find(30)) # Output: At position 2\n",
    "# print(lst[5])     # Uncomment to raise IndexError: Index out of range\n"
   ]
  },
  {
   "cell_type": "code",
   "execution_count": 239,
   "id": "eeead350-18f7-4da1-a985-66dd3d1bae3d",
   "metadata": {},
   "outputs": [
    {
     "data": {
      "text/plain": [
       "2"
      ]
     },
     "execution_count": 239,
     "metadata": {},
     "output_type": "execute_result"
    }
   ],
   "source": [
    "lst.find(30)"
   ]
  },
  {
   "cell_type": "code",
   "execution_count": 184,
   "id": "5b72a4f7-4c32-4726-83e5-9092a16e941b",
   "metadata": {},
   "outputs": [
    {
     "data": {
      "text/plain": [
       "10"
      ]
     },
     "execution_count": 184,
     "metadata": {},
     "output_type": "execute_result"
    }
   ],
   "source": [
    "lst[0]  "
   ]
  },
  {
   "cell_type": "code",
   "execution_count": 186,
   "id": "e12ad244-b01d-4dc9-b827-b588a3faa872",
   "metadata": {},
   "outputs": [],
   "source": [
    "lst.append(69)"
   ]
  },
  {
   "cell_type": "code",
   "execution_count": 188,
   "id": "6ca12b2f-f388-477d-b60a-3471245ebcc2",
   "metadata": {},
   "outputs": [
    {
     "name": "stdout",
     "output_type": "stream",
     "text": [
      "[10,20,30,69]\n"
     ]
    }
   ],
   "source": [
    "print(lst)"
   ]
  },
  {
   "cell_type": "code",
   "execution_count": 190,
   "id": "51125246-4f34-430c-9d81-dc9bb86da5f1",
   "metadata": {},
   "outputs": [],
   "source": [
    "L = [5,89,464,645]"
   ]
  },
  {
   "cell_type": "code",
   "execution_count": 192,
   "id": "540f37f2-9c8d-4d4c-a083-91d636220b38",
   "metadata": {},
   "outputs": [],
   "source": [
    "L.insert(2,69)"
   ]
  },
  {
   "cell_type": "code",
   "execution_count": 194,
   "id": "e60cb05f-c171-49d9-9ddb-ba49cd3c53b3",
   "metadata": {},
   "outputs": [
    {
     "name": "stdout",
     "output_type": "stream",
     "text": [
      "[5, 89, 69, 464, 645]\n"
     ]
    }
   ],
   "source": [
    "print(L)"
   ]
  },
  {
   "cell_type": "code",
   "execution_count": 196,
   "id": "0ff62915-1167-4290-a5a8-7052d9b9de3b",
   "metadata": {},
   "outputs": [
    {
     "name": "stdout",
     "output_type": "stream",
     "text": [
      "[10,20,30,69]\n"
     ]
    }
   ],
   "source": [
    "print(lst)"
   ]
  },
  {
   "cell_type": "code",
   "execution_count": 198,
   "id": "7a54f80a-13c6-4339-94ed-b38c0d9ec20c",
   "metadata": {},
   "outputs": [],
   "source": [
    "lst.insert(2,7000)"
   ]
  },
  {
   "cell_type": "code",
   "execution_count": 200,
   "id": "f31f2997-8766-4763-bfe5-deda1d73a32f",
   "metadata": {},
   "outputs": [
    {
     "name": "stdout",
     "output_type": "stream",
     "text": [
      "[10,20,7000,30,69]\n"
     ]
    }
   ],
   "source": [
    "print(lst)"
   ]
  },
  {
   "cell_type": "code",
   "execution_count": 202,
   "id": "2671a9fe-78f2-453b-8dcf-2c0bb58104c6",
   "metadata": {},
   "outputs": [],
   "source": [
    "del lst[0]"
   ]
  },
  {
   "cell_type": "code",
   "execution_count": 204,
   "id": "195140c0-6f3c-4f43-9160-a53d84e55f42",
   "metadata": {},
   "outputs": [
    {
     "name": "stdout",
     "output_type": "stream",
     "text": [
      "[20,7000,30,69]\n"
     ]
    }
   ],
   "source": [
    "print(lst)"
   ]
  },
  {
   "cell_type": "code",
   "execution_count": 206,
   "id": "6ac8bcfc-1503-4e51-8bd6-9d6f228f1319",
   "metadata": {},
   "outputs": [],
   "source": [
    "#del lst[65656]"
   ]
  },
  {
   "cell_type": "code",
   "execution_count": 208,
   "id": "0ee6dc2f-d671-4fb1-ac71-eda2388047cc",
   "metadata": {},
   "outputs": [
    {
     "name": "stdout",
     "output_type": "stream",
     "text": [
      "[20,7000,30,69]\n"
     ]
    }
   ],
   "source": [
    "print(lst)"
   ]
  },
  {
   "cell_type": "code",
   "execution_count": 210,
   "id": "85a17516-df10-428d-9acf-c6093df2d5f5",
   "metadata": {},
   "outputs": [],
   "source": [
    "lst.remove(30)"
   ]
  },
  {
   "cell_type": "code",
   "execution_count": 212,
   "id": "b1a69f89-bb90-417c-9f0e-7f59fb90ec2a",
   "metadata": {},
   "outputs": [
    {
     "name": "stdout",
     "output_type": "stream",
     "text": [
      "[20,7000,69]\n"
     ]
    }
   ],
   "source": [
    "print(lst)"
   ]
  },
  {
   "cell_type": "code",
   "execution_count": 214,
   "id": "6b41c11f-cc97-48c7-a267-ce5ccc909134",
   "metadata": {},
   "outputs": [
    {
     "data": {
      "text/plain": [
       "7000"
      ]
     },
     "execution_count": 214,
     "metadata": {},
     "output_type": "execute_result"
    }
   ],
   "source": [
    "lst.max()"
   ]
  },
  {
   "cell_type": "code",
   "execution_count": 219,
   "id": "1b439037-c411-4d10-8d58-8f1b80ead13a",
   "metadata": {},
   "outputs": [],
   "source": [
    "lst.append(4565465)"
   ]
  },
  {
   "cell_type": "code",
   "execution_count": 227,
   "id": "cc265b3d-863d-4253-8aeb-13824498abe0",
   "metadata": {},
   "outputs": [
    {
     "data": {
      "text/plain": [
       "30"
      ]
     },
     "execution_count": 227,
     "metadata": {},
     "output_type": "execute_result"
    }
   ],
   "source": [
    "lst.max()"
   ]
  },
  {
   "cell_type": "code",
   "execution_count": 241,
   "id": "361f9d0b-b186-4e4e-8249-6bd5afbfecae",
   "metadata": {},
   "outputs": [
    {
     "data": {
      "text/plain": [
       "10"
      ]
     },
     "execution_count": 241,
     "metadata": {},
     "output_type": "execute_result"
    }
   ],
   "source": [
    "lst.min()"
   ]
  },
  {
   "cell_type": "code",
   "execution_count": 269,
   "id": "b122372b-bd9e-4721-89d3-9feb89ff7f90",
   "metadata": {},
   "outputs": [],
   "source": [
    "l = MyList()"
   ]
  },
  {
   "cell_type": "code",
   "execution_count": 271,
   "id": "842767bb-5f31-4a84-8422-fb9d3e9ee6a7",
   "metadata": {},
   "outputs": [
    {
     "data": {
      "text/plain": [
       "'The list is empty'"
      ]
     },
     "execution_count": 271,
     "metadata": {},
     "output_type": "execute_result"
    }
   ],
   "source": [
    "l.min()"
   ]
  },
  {
   "cell_type": "code",
   "execution_count": 273,
   "id": "1a0eea37-c641-48ab-b754-f77dffd04d12",
   "metadata": {},
   "outputs": [],
   "source": [
    "l.append(\"hello\")\n",
    "l.append(\"asd\")\n",
    "l.append(\"ajls\")"
   ]
  },
  {
   "cell_type": "code",
   "execution_count": 275,
   "id": "efe36c86-2bb1-401d-a84c-f1435f753b65",
   "metadata": {},
   "outputs": [
    {
     "data": {
      "text/plain": [
       "'ajls'"
      ]
     },
     "execution_count": 275,
     "metadata": {},
     "output_type": "execute_result"
    }
   ],
   "source": [
    "l.min()"
   ]
  },
  {
   "cell_type": "code",
   "execution_count": 261,
   "id": "8c414fcf-617c-4101-8cea-4b09bfa097f7",
   "metadata": {},
   "outputs": [],
   "source": [
    "L.append(\"pjsj\")"
   ]
  },
  {
   "cell_type": "code",
   "execution_count": 263,
   "id": "75ba379b-2d44-4367-b01e-0c47f73cd1e4",
   "metadata": {},
   "outputs": [
    {
     "name": "stdout",
     "output_type": "stream",
     "text": [
      "[5, 89, 69, 464, 645, 'pjsj']\n"
     ]
    }
   ],
   "source": [
    "print(L)"
   ]
  },
  {
   "cell_type": "code",
   "execution_count": 267,
   "id": "0757871a-4caf-42a5-9bfc-44752586192a",
   "metadata": {},
   "outputs": [
    {
     "ename": "TypeError",
     "evalue": "'>' not supported between instances of 'str' and 'int'",
     "output_type": "error",
     "traceback": [
      "\u001b[1;31m---------------------------------------------------------------------------\u001b[0m",
      "\u001b[1;31mTypeError\u001b[0m                                 Traceback (most recent call last)",
      "Cell \u001b[1;32mIn[267], line 1\u001b[0m\n\u001b[1;32m----> 1\u001b[0m \u001b[38;5;28mmax\u001b[39m(L)\n",
      "\u001b[1;31mTypeError\u001b[0m: '>' not supported between instances of 'str' and 'int'"
     ]
    }
   ],
   "source": [
    "max(L)"
   ]
  },
  {
   "cell_type": "code",
   "execution_count": 277,
   "id": "bdd90cfb-fd9c-4192-9d07-26f83f10a5a9",
   "metadata": {},
   "outputs": [
    {
     "data": {
      "text/plain": [
       "'pjsj'"
      ]
     },
     "execution_count": 277,
     "metadata": {},
     "output_type": "execute_result"
    }
   ],
   "source": [
    "L.pop()"
   ]
  },
  {
   "cell_type": "code",
   "execution_count": 279,
   "id": "deb030c6-6d28-4230-9230-cabb8b0b29d6",
   "metadata": {},
   "outputs": [],
   "source": [
    "L.append(True)"
   ]
  },
  {
   "cell_type": "code",
   "execution_count": 283,
   "id": "f0a77df6-9123-46cf-a65c-77c3a4874331",
   "metadata": {},
   "outputs": [
    {
     "data": {
      "text/plain": [
       "True"
      ]
     },
     "execution_count": 283,
     "metadata": {},
     "output_type": "execute_result"
    }
   ],
   "source": [
    "min(L)"
   ]
  },
  {
   "cell_type": "code",
   "execution_count": null,
   "id": "41a8aa3d-c08b-48c5-bbc3-1fb3e57822d8",
   "metadata": {},
   "outputs": [],
   "source": []
  }
 ],
 "metadata": {
  "kernelspec": {
   "display_name": "Python 3 (ipykernel)",
   "language": "python",
   "name": "python3"
  },
  "language_info": {
   "codemirror_mode": {
    "name": "ipython",
    "version": 3
   },
   "file_extension": ".py",
   "mimetype": "text/x-python",
   "name": "python",
   "nbconvert_exporter": "python",
   "pygments_lexer": "ipython3",
   "version": "3.12.4"
  }
 },
 "nbformat": 4,
 "nbformat_minor": 5
}
