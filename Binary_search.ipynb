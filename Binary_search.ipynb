{
 "cells": [
  {
   "cell_type": "code",
   "execution_count": 27,
   "id": "84aa2eaf-8b47-4fbc-874e-f3458b4d415b",
   "metadata": {},
   "outputs": [],
   "source": [
    "#Binary Search"
   ]
  },
  {
   "cell_type": "code",
   "execution_count": 2,
   "id": "4fed7259-0870-426e-8ffa-8d07e3ecc22c",
   "metadata": {},
   "outputs": [],
   "source": [
    "def Binary_search(arr,item):\n",
    "    low = 0\n",
    "    high = len(arr)-1\n",
    "    print(\"Low =\",low,\"High =\",high,end=\" \")\n",
    "    if low<=high:\n",
    "    \n",
    "        #search\n",
    "        mid = (low + high)//2\n",
    "        print(\"Mid value is\",arr[mid])\n",
    "        \n",
    "        if arr[mid] == item:\n",
    "            return mid\n",
    "        elif arr[mid] > item:\n",
    "            return Binary_search(arr,low,mid-1,item)\n",
    "        else:\n",
    "            return Binary_search(arr,mid+1,high,item)\n",
    "    else:\n",
    "        return -1"
   ]
  },
  {
   "cell_type": "code",
   "execution_count": 6,
   "id": "8aa4a660-38eb-420c-86d3-a2fd8a8ade49",
   "metadata": {},
   "outputs": [],
   "source": [
    "arr = [12,24,35,46,57,68,80,99,100]"
   ]
  },
  {
   "cell_type": "code",
   "execution_count": 47,
   "id": "7fef5d74-8676-48ec-b2af-36d69431a6c7",
   "metadata": {},
   "outputs": [
    {
     "name": "stdout",
     "output_type": "stream",
     "text": [
      "Low = 0 High = 8 Mid value is 57\n",
      "Low = 5 High = 8 Mid value is 80\n",
      "Low = 7 High = 8 Mid value is 99\n"
     ]
    },
    {
     "data": {
      "text/plain": [
       "7"
      ]
     },
     "execution_count": 47,
     "metadata": {},
     "output_type": "execute_result"
    }
   ],
   "source": [
    "Binary_search(arr,0,len(arr)-1,99)"
   ]
  },
  {
   "cell_type": "code",
   "execution_count": 49,
   "id": "7b25fda9-0b89-4d98-9b64-4a4bc1f9754f",
   "metadata": {},
   "outputs": [
    {
     "name": "stdout",
     "output_type": "stream",
     "text": [
      "Low = 0 High = 8 Mid value is 57\n",
      "Low = 5 High = 8 Mid value is 80\n",
      "Low = 7 High = 8 Mid value is 99\n",
      "Low = 8 High = 8 Mid value is 100\n"
     ]
    },
    {
     "data": {
      "text/plain": [
       "8"
      ]
     },
     "execution_count": 49,
     "metadata": {},
     "output_type": "execute_result"
    }
   ],
   "source": [
    "Binary_search(arr,0,len(arr)-1,100)"
   ]
  },
  {
   "cell_type": "code",
   "execution_count": 51,
   "id": "c201fa80-9c5b-4c49-a571-21eba1661bf5",
   "metadata": {},
   "outputs": [
    {
     "name": "stdout",
     "output_type": "stream",
     "text": [
      "Low = 0 High = 8 Mid value is 57\n",
      "Low = 5 High = 8 Mid value is 80\n",
      "Low = 7 High = 8 Mid value is 99\n",
      "Low = 8 High = 8 Mid value is 100\n",
      "Low = 9 High = 8 "
     ]
    },
    {
     "data": {
      "text/plain": [
       "-1"
      ]
     },
     "execution_count": 51,
     "metadata": {},
     "output_type": "execute_result"
    }
   ],
   "source": [
    "Binary_search(arr,0,len(arr)-1,1555)"
   ]
  },
  {
   "cell_type": "code",
   "execution_count": 16,
   "id": "6dff7d35-6efb-4067-b33e-ce3322294dd0",
   "metadata": {},
   "outputs": [
    {
     "name": "stdout",
     "output_type": "stream",
     "text": [
      "Element 7 found at index 3.\n"
     ]
    }
   ],
   "source": [
    "def binary_search(arr, target):\n",
    "    \"\"\"\n",
    "    Perform binary search on a sorted array to find the target element.\n",
    "    \n",
    "    :param arr: List[int] - The sorted array to search in\n",
    "    :param target: int - The element to search for\n",
    "    :return: int - Index of the target element if found, otherwise -1\n",
    "    \"\"\"\n",
    "    left, right = 0, len(arr) - 1\n",
    "    \n",
    "    while left <= right:\n",
    "        mid = left + (right - left) // 2  # Avoids potential overflow\n",
    "        if arr[mid] == target:\n",
    "            return mid\n",
    "        elif arr[mid] < target:\n",
    "            left = mid + 1\n",
    "        else:\n",
    "            right = mid - 1\n",
    "    \n",
    "    return -1  # Target not found\n",
    "\n",
    "\n",
    "# Example Usage\n",
    "if __name__ == \"__main__\":\n",
    "    sorted_array = [1, 3, 5, 7, 9, 11, 13]\n",
    "    target = 7\n",
    "    result = binary_search(sorted_array, target)\n",
    "    \n",
    "    if result != -1:\n",
    "        print(f\"Element {target} found at index {result}.\")\n",
    "    else:\n",
    "        print(f\"Element {target} not found in the array.\")\n"
   ]
  },
  {
   "cell_type": "code",
   "execution_count": 18,
   "id": "2993be1b-27dc-4fd4-858c-fef2de21d29b",
   "metadata": {},
   "outputs": [
    {
     "data": {
      "text/plain": [
       "8"
      ]
     },
     "execution_count": 18,
     "metadata": {},
     "output_type": "execute_result"
    }
   ],
   "source": [
    "binary_search(arr,100)"
   ]
  },
  {
   "cell_type": "code",
   "execution_count": null,
   "id": "2ade690d-a98b-42be-950d-27bfa6d1cab4",
   "metadata": {},
   "outputs": [],
   "source": []
  },
  {
   "cell_type": "code",
   "execution_count": null,
   "id": "d33b4586-11e2-4d28-b57d-64ef87dfe719",
   "metadata": {},
   "outputs": [],
   "source": []
  }
 ],
 "metadata": {
  "kernelspec": {
   "display_name": "Python 3 (ipykernel)",
   "language": "python",
   "name": "python3"
  },
  "language_info": {
   "codemirror_mode": {
    "name": "ipython",
    "version": 3
   },
   "file_extension": ".py",
   "mimetype": "text/x-python",
   "name": "python",
   "nbconvert_exporter": "python",
   "pygments_lexer": "ipython3",
   "version": "3.12.4"
  }
 },
 "nbformat": 4,
 "nbformat_minor": 5
}
