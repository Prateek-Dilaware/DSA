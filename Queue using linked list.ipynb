{
 "cells": [
  {
   "cell_type": "code",
   "execution_count": 2,
   "id": "2d844c9c-e19a-4abe-b09b-19dcdbed9afc",
   "metadata": {},
   "outputs": [],
   "source": [
    "class Node:\n",
    "    def __init__(self,val):\n",
    "        self.data = val\n",
    "        self.next = None"
   ]
  },
  {
   "cell_type": "code",
   "execution_count": 6,
   "id": "fd1644d1-cb71-4603-8ffc-2162f79ea959",
   "metadata": {},
   "outputs": [],
   "source": [
    "class Queue:\n",
    "    def __init__(self):\n",
    "        self.front = None\n",
    "        self.rear = None\n",
    "    \n",
    "    def enqueue(self,val):\n",
    "        new_node = Node(val)\n",
    "        if self.rear is None:\n",
    "            self.front = new_node\n",
    "            self.rear = self.front\n",
    "        else:\n",
    "            self.rear.next = new_node\n",
    "            self.rear = new_node\n",
    "    \n",
    "    def dequeue(self):\n",
    "        #You delete from head\n",
    "        if self.front == None:\n",
    "            return \"Empty\"\n",
    "        else:\n",
    "            self.front = self.front.next\n",
    "    \n",
    "    def traverse(self):\n",
    "        temp = self.front\n",
    "        while temp is not None:\n",
    "            print(temp.data,end = \" \")\n",
    "            temp = temp.next\n",
    "    \n",
    "    def is_empty(self):\n",
    "        return self.front == None # if it is true it will return true otherwise false\n",
    "    \n",
    "    def size(self):\n",
    "        temp = self.front\n",
    "        count = 0\n",
    "        while temp is not None: # while temp != None\n",
    "            count = count +1 \n",
    "            temp = temp.next\n",
    "        \n",
    "        return count \n",
    "    \n",
    "    def front_item(self):\n",
    "        if self.front is None:\n",
    "            return \"Empty\"\n",
    "        else:\n",
    "            return self.front.data\n",
    "    \n",
    "    def rear_item(self):\n",
    "        if self.front == None:\n",
    "            return \"Empty\"\n",
    "        else:\n",
    "            return self.rear.data\n",
    "            \n",
    "        \n",
    "        "
   ]
  },
  {
   "cell_type": "code",
   "execution_count": 124,
   "id": "8e443a57-61e6-4fbd-bae5-9e69e3980eb9",
   "metadata": {},
   "outputs": [],
   "source": [
    "q = Queue()"
   ]
  },
  {
   "cell_type": "code",
   "execution_count": 126,
   "id": "23754cba-aecd-41af-88ae-996226c6873b",
   "metadata": {},
   "outputs": [],
   "source": [
    "q.enqueue(88)\n",
    "q.enqueue(65)\n",
    "q.enqueue(39)\n",
    "q.enqueue(42)"
   ]
  },
  {
   "cell_type": "code",
   "execution_count": 128,
   "id": "384ccc2c-d86e-4b97-a3e7-c048d56f8888",
   "metadata": {},
   "outputs": [
    {
     "name": "stdout",
     "output_type": "stream",
     "text": [
      "88 65 39 42 "
     ]
    }
   ],
   "source": [
    "q.traverse()"
   ]
  },
  {
   "cell_type": "code",
   "execution_count": 132,
   "id": "d4cb47fb-7e17-4a56-b21a-9decefe96b8c",
   "metadata": {},
   "outputs": [],
   "source": [
    "q.dequeue()"
   ]
  },
  {
   "cell_type": "code",
   "execution_count": 134,
   "id": "23806ef7-e9e3-4c5e-90ba-be7563757727",
   "metadata": {},
   "outputs": [
    {
     "name": "stdout",
     "output_type": "stream",
     "text": [
      "65 39 42 "
     ]
    }
   ],
   "source": [
    "q.traverse()"
   ]
  },
  {
   "cell_type": "code",
   "execution_count": 136,
   "id": "a34596d0-18fe-4f4f-a32e-caa9399b5e2a",
   "metadata": {},
   "outputs": [
    {
     "data": {
      "text/plain": [
       "3"
      ]
     },
     "execution_count": 136,
     "metadata": {},
     "output_type": "execute_result"
    }
   ],
   "source": [
    "q.size()"
   ]
  },
  {
   "cell_type": "code",
   "execution_count": 102,
   "id": "23901a49-6db3-43fb-a4c1-e53bfc4fc4aa",
   "metadata": {},
   "outputs": [
    {
     "data": {
      "text/plain": [
       "False"
      ]
     },
     "execution_count": 102,
     "metadata": {},
     "output_type": "execute_result"
    }
   ],
   "source": [
    "q.is_empty()"
   ]
  },
  {
   "cell_type": "code",
   "execution_count": 104,
   "id": "45f6aadf-4ee8-479a-806d-1e7d76e46af7",
   "metadata": {},
   "outputs": [
    {
     "data": {
      "text/plain": [
       "65"
      ]
     },
     "execution_count": 104,
     "metadata": {},
     "output_type": "execute_result"
    }
   ],
   "source": [
    "q.front_item()"
   ]
  },
  {
   "cell_type": "code",
   "execution_count": 112,
   "id": "30008c7e-c217-4683-8ab6-1da4affef9ff",
   "metadata": {},
   "outputs": [
    {
     "data": {
      "text/plain": [
       "65"
      ]
     },
     "execution_count": 112,
     "metadata": {},
     "output_type": "execute_result"
    }
   ],
   "source": [
    "q.front.data"
   ]
  },
  {
   "cell_type": "code",
   "execution_count": 114,
   "id": "8ee77c58-8635-4f33-8372-3b4a5b0b09cd",
   "metadata": {},
   "outputs": [
    {
     "data": {
      "text/plain": [
       "42"
      ]
     },
     "execution_count": 114,
     "metadata": {},
     "output_type": "execute_result"
    }
   ],
   "source": [
    "q.rear_item()"
   ]
  },
  {
   "cell_type": "code",
   "execution_count": 116,
   "id": "3fdd4fbc-c837-491a-8596-9c0713e2aa9e",
   "metadata": {},
   "outputs": [
    {
     "name": "stdout",
     "output_type": "stream",
     "text": [
      "65 39 42 "
     ]
    }
   ],
   "source": [
    "q.traverse()"
   ]
  },
  {
   "cell_type": "code",
   "execution_count": 118,
   "id": "231ed93c-57b6-4ebf-a8d7-bfa408196ca9",
   "metadata": {},
   "outputs": [],
   "source": [
    "q1 = Queue()"
   ]
  },
  {
   "cell_type": "code",
   "execution_count": 120,
   "id": "fed66612-e310-4621-971c-47b13ccb1593",
   "metadata": {},
   "outputs": [
    {
     "data": {
      "text/plain": [
       "True"
      ]
     },
     "execution_count": 120,
     "metadata": {},
     "output_type": "execute_result"
    }
   ],
   "source": [
    "q1.is_empty()"
   ]
  },
  {
   "cell_type": "code",
   "execution_count": null,
   "id": "1b6efaa2-5e5c-46f8-9ef5-020d0f8bcd90",
   "metadata": {},
   "outputs": [],
   "source": []
  }
 ],
 "metadata": {
  "kernelspec": {
   "display_name": "Python 3 (ipykernel)",
   "language": "python",
   "name": "python3"
  },
  "language_info": {
   "codemirror_mode": {
    "name": "ipython",
    "version": 3
   },
   "file_extension": ".py",
   "mimetype": "text/x-python",
   "name": "python",
   "nbconvert_exporter": "python",
   "pygments_lexer": "ipython3",
   "version": "3.12.4"
  }
 },
 "nbformat": 4,
 "nbformat_minor": 5
}
