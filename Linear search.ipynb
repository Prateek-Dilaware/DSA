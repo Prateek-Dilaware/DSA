{
 "cells": [
  {
   "cell_type": "code",
   "execution_count": 19,
   "id": "b3809bb6-c1cf-4aa2-994f-f8550e8c8a95",
   "metadata": {},
   "outputs": [],
   "source": [
    "#Linear Search\n",
    "def Linear_search(arr,item):\n",
    "    for j in range(len(arr)):\n",
    "        if arr[j] == item:\n",
    "            return j\n",
    "    \n",
    "    return -1\n",
    "\n"
   ]
  },
  {
   "cell_type": "code",
   "execution_count": 21,
   "id": "535957bf-1bd8-4703-8359-c25d09373fc7",
   "metadata": {},
   "outputs": [],
   "source": [
    "arr =[12,34,56,88,98,78,56,45]"
   ]
  },
  {
   "cell_type": "code",
   "execution_count": 23,
   "id": "2f5f520c-088b-40a0-b0b5-b26e9b26b3b4",
   "metadata": {},
   "outputs": [
    {
     "data": {
      "text/plain": [
       "2"
      ]
     },
     "execution_count": 23,
     "metadata": {},
     "output_type": "execute_result"
    }
   ],
   "source": [
    "Linear_search(arr,56)"
   ]
  },
  {
   "cell_type": "code",
   "execution_count": 25,
   "id": "282dc441-3b10-4db4-a233-d8c1334ad368",
   "metadata": {},
   "outputs": [
    {
     "data": {
      "text/plain": [
       "-1"
      ]
     },
     "execution_count": 25,
     "metadata": {},
     "output_type": "execute_result"
    }
   ],
   "source": [
    "Linear_search(arr,66)"
   ]
  },
  {
   "cell_type": "code",
   "execution_count": null,
   "id": "84aa2eaf-8b47-4fbc-874e-f3458b4d415b",
   "metadata": {},
   "outputs": [],
   "source": []
  }
 ],
 "metadata": {
  "kernelspec": {
   "display_name": "Python 3 (ipykernel)",
   "language": "python",
   "name": "python3"
  },
  "language_info": {
   "codemirror_mode": {
    "name": "ipython",
    "version": 3
   },
   "file_extension": ".py",
   "mimetype": "text/x-python",
   "name": "python",
   "nbconvert_exporter": "python",
   "pygments_lexer": "ipython3",
   "version": "3.12.4"
  }
 },
 "nbformat": 4,
 "nbformat_minor": 5
}
