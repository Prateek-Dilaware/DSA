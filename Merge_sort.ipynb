{
 "cells": [
  {
   "cell_type": "code",
   "execution_count": 50,
   "id": "35a45862-fe22-4443-8a73-756fce5a07cf",
   "metadata": {},
   "outputs": [],
   "source": [
    "def merge_sorted(arr1,arr2):\n",
    "    i = j = 0\n",
    "    merged = []\n",
    "    while i < len(arr1) and j < len(arr2):\n",
    "        if arr1[i]<arr2[j]:\n",
    "            merged.append(arr1[i])\n",
    "            i = i+1\n",
    "        else:\n",
    "            merged.append(arr2[j])\n",
    "            j = j+1\n",
    "    #For remaining elements\n",
    "    while i < len(arr1):\n",
    "        merged.append(arr1[i])\n",
    "        i += 1\n",
    "    while j<len(arr2):\n",
    "        merged.append(arr2[j])\n",
    "        j+= 1\n",
    "    return merged\n",
    "    \n",
    "        \n",
    "        "
   ]
  },
  {
   "cell_type": "code",
   "execution_count": 52,
   "id": "33dccd3f-762c-4222-a0fb-df1dcc0277cd",
   "metadata": {},
   "outputs": [
    {
     "data": {
      "text/plain": [
       "[1, 2, 3, 4, 5, 7, 8, 9, 10]"
      ]
     },
     "execution_count": 52,
     "metadata": {},
     "output_type": "execute_result"
    }
   ],
   "source": [
    "A1 = [1,2,4]\n",
    "A2 = [3,5,7,8,9,10]\n",
    "merge_sorted(A1,A2)\n"
   ]
  },
  {
   "cell_type": "code",
   "execution_count": 54,
   "id": "535986bf-525e-4f8a-a437-95d20261af7c",
   "metadata": {},
   "outputs": [],
   "source": [
    "def merge_sort(arr):\n",
    "    if len(arr) ==1:\n",
    "        return arr\n",
    "    \n",
    "    mid = len(arr)//2\n",
    "    \n",
    "    left = arr[:mid]\n",
    "    right = arr[mid:]\n",
    "    #Recursion\n",
    "    left = merge_sort(left)\n",
    "    right = merge_sort(right)\n",
    "\n",
    "    return(merge_sorted(left,right))\n"
   ]
  },
  {
   "cell_type": "code",
   "execution_count": 60,
   "id": "8bdd4683-825f-4ad3-8d1c-e6dab1971bf1",
   "metadata": {},
   "outputs": [
    {
     "data": {
      "text/plain": [
       "[0, 1, 3, 4, 6, 42, 46, 56, 56, 64, 75]"
      ]
     },
     "execution_count": 60,
     "metadata": {},
     "output_type": "execute_result"
    }
   ],
   "source": [
    "Arr = [6,4,3,75,46,64,56,0,1,42,56]\n",
    "merge_sort(Arr)"
   ]
  },
  {
   "cell_type": "code",
   "execution_count": null,
   "id": "4f7cead6-993c-45c3-a56a-de1814a44791",
   "metadata": {},
   "outputs": [],
   "source": []
  }
 ],
 "metadata": {
  "kernelspec": {
   "display_name": "Python 3 (ipykernel)",
   "language": "python",
   "name": "python3"
  },
  "language_info": {
   "codemirror_mode": {
    "name": "ipython",
    "version": 3
   },
   "file_extension": ".py",
   "mimetype": "text/x-python",
   "name": "python",
   "nbconvert_exporter": "python",
   "pygments_lexer": "ipython3",
   "version": "3.12.4"
  }
 },
 "nbformat": 4,
 "nbformat_minor": 5
}
