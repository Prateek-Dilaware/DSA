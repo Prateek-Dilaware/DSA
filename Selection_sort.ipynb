{
 "cells": [
  {
   "cell_type": "code",
   "execution_count": 22,
   "id": "35a45862-fe22-4443-8a73-756fce5a07cf",
   "metadata": {},
   "outputs": [],
   "source": [
    "def selection_sort(arr):\n",
    "    for j in range(len(arr)-1):\n",
    "        min = j\n",
    "        for k in range(j+1,len(arr)):\n",
    "            if arr[k]< arr[min]:\n",
    "                min = k\n",
    "                \n",
    "        arr[j],arr[min] = arr[min],arr[j]\n",
    "    print(arr)"
   ]
  },
  {
   "cell_type": "code",
   "execution_count": 24,
   "id": "33dccd3f-762c-4222-a0fb-df1dcc0277cd",
   "metadata": {},
   "outputs": [
    {
     "name": "stdout",
     "output_type": "stream",
     "text": [
      "[0, 1, 2, 6, 43, 80]\n"
     ]
    }
   ],
   "source": [
    "a = [1,2,43,6,80,0]\n",
    "selection_sort(a)"
   ]
  },
  {
   "cell_type": "code",
   "execution_count": null,
   "id": "535986bf-525e-4f8a-a437-95d20261af7c",
   "metadata": {},
   "outputs": [],
   "source": []
  }
 ],
 "metadata": {
  "kernelspec": {
   "display_name": "Python 3 (ipykernel)",
   "language": "python",
   "name": "python3"
  },
  "language_info": {
   "codemirror_mode": {
    "name": "ipython",
    "version": 3
   },
   "file_extension": ".py",
   "mimetype": "text/x-python",
   "name": "python",
   "nbconvert_exporter": "python",
   "pygments_lexer": "ipython3",
   "version": "3.12.4"
  }
 },
 "nbformat": 4,
 "nbformat_minor": 5
}
