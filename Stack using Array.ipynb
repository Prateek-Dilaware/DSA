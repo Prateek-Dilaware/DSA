{
 "cells": [
  {
   "cell_type": "code",
   "execution_count": 68,
   "id": "1a9d9122-6e3a-4151-a78b-cb438ca96c17",
   "metadata": {},
   "outputs": [],
   "source": [
    "class Stack:\n",
    "    def __init__(self,size):\n",
    "        self.size = size\n",
    "        self.__stack = [None] * self.size # making it a private variable so that it can not be print as python list\n",
    "        self.top = -1\n",
    "    def push(self,val):\n",
    "        if self.top == self.size -1 :\n",
    "            return \"OVERflow\"\n",
    "        else:\n",
    "            self.top = self.top+1\n",
    "            self.__stack[self.top] = val\n",
    "    def pop(self):\n",
    "        if self.top == -1:\n",
    "            return \"empty\"\n",
    "        else:\n",
    "            data = self.__stack[self.top]\n",
    "            self.top = self.top-1\n",
    "            print(data)\n",
    "    def traverse(self):\n",
    "        for j in range(self.top + 1):\n",
    "            print(self.__stack[j],end = \" \")\n",
    "\n",
    "    "
   ]
  },
  {
   "cell_type": "code",
   "execution_count": 94,
   "id": "bb1c836c-af59-421c-b8e5-4da22e5e7457",
   "metadata": {},
   "outputs": [],
   "source": [
    "s = Stack(3)"
   ]
  },
  {
   "cell_type": "code",
   "execution_count": 96,
   "id": "4c1d89fb-e57a-49a3-81f2-8ed1c10a4922",
   "metadata": {},
   "outputs": [],
   "source": [
    "s.traverse()"
   ]
  },
  {
   "cell_type": "code",
   "execution_count": 102,
   "id": "3e37779d-4a32-4c73-9cf7-b6df14972c9a",
   "metadata": {},
   "outputs": [],
   "source": [
    "s.push(33)"
   ]
  },
  {
   "cell_type": "code",
   "execution_count": 104,
   "id": "bc8df1b8-4d02-4882-8bcf-4a7633b062df",
   "metadata": {},
   "outputs": [],
   "source": [
    "s.push(88)"
   ]
  },
  {
   "cell_type": "code",
   "execution_count": 106,
   "id": "6c3fce62-020a-4e83-a5b5-433603fac80a",
   "metadata": {},
   "outputs": [
    {
     "name": "stdout",
     "output_type": "stream",
     "text": [
      "88 33 88 "
     ]
    }
   ],
   "source": [
    "s.traverse()"
   ]
  },
  {
   "cell_type": "code",
   "execution_count": 80,
   "id": "266d530a-6576-4587-9b3e-4f70149a2074",
   "metadata": {},
   "outputs": [],
   "source": [
    "s.push(78)"
   ]
  },
  {
   "cell_type": "code",
   "execution_count": 82,
   "id": "ba74987e-72ff-41ce-be30-1a91de913d26",
   "metadata": {},
   "outputs": [
    {
     "data": {
      "text/plain": [
       "'OVERflow'"
      ]
     },
     "execution_count": 82,
     "metadata": {},
     "output_type": "execute_result"
    }
   ],
   "source": [
    "s.push(65)"
   ]
  },
  {
   "cell_type": "code",
   "execution_count": 84,
   "id": "2e26d296-cf5a-4e34-86dd-5184beb8b297",
   "metadata": {},
   "outputs": [
    {
     "name": "stdout",
     "output_type": "stream",
     "text": [
      "33 88 78 "
     ]
    }
   ],
   "source": [
    "s.traverse()"
   ]
  },
  {
   "cell_type": "code",
   "execution_count": 86,
   "id": "7ea7e14e-b307-43d8-8e6b-79aaf1bb07fc",
   "metadata": {},
   "outputs": [
    {
     "name": "stdout",
     "output_type": "stream",
     "text": [
      "78\n"
     ]
    }
   ],
   "source": [
    "s.pop()"
   ]
  },
  {
   "cell_type": "code",
   "execution_count": 88,
   "id": "a2d71ca6-63b1-4a28-a3c1-7a5712d23482",
   "metadata": {},
   "outputs": [
    {
     "name": "stdout",
     "output_type": "stream",
     "text": [
      "33 88 "
     ]
    }
   ],
   "source": [
    "s.traverse()"
   ]
  },
  {
   "cell_type": "code",
   "execution_count": 90,
   "id": "0d926732-2c41-4dc7-a77e-4de1cd6d4ac8",
   "metadata": {},
   "outputs": [],
   "source": [
    "s.push(69)"
   ]
  },
  {
   "cell_type": "code",
   "execution_count": 92,
   "id": "ce773fcf-12c9-4677-a95c-9f8a3dff5f65",
   "metadata": {},
   "outputs": [
    {
     "name": "stdout",
     "output_type": "stream",
     "text": [
      "33 88 69 "
     ]
    }
   ],
   "source": [
    "s.traverse()"
   ]
  },
  {
   "cell_type": "code",
   "execution_count": null,
   "id": "8e68f90a-d733-49b7-9df7-57e989117f2c",
   "metadata": {},
   "outputs": [],
   "source": []
  }
 ],
 "metadata": {
  "kernelspec": {
   "display_name": "Python 3 (ipykernel)",
   "language": "python",
   "name": "python3"
  },
  "language_info": {
   "codemirror_mode": {
    "name": "ipython",
    "version": 3
   },
   "file_extension": ".py",
   "mimetype": "text/x-python",
   "name": "python",
   "nbconvert_exporter": "python",
   "pygments_lexer": "ipython3",
   "version": "3.12.4"
  }
 },
 "nbformat": 4,
 "nbformat_minor": 5
}
