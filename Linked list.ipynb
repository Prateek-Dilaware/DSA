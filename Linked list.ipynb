{
 "cells": [
  {
   "cell_type": "code",
   "execution_count": 75,
   "id": "12430f3e-f418-4742-aacb-42bd801246e0",
   "metadata": {},
   "outputs": [],
   "source": [
    "class Node:\n",
    "    def __init__(self,value):\n",
    "        self.data = value\n",
    "        self.next = None\n",
    "    "
   ]
  },
  {
   "cell_type": "code",
   "execution_count": 77,
   "id": "48420e44-ef12-462e-944e-cde20bb6926a",
   "metadata": {},
   "outputs": [],
   "source": [
    "class LinkedList:\n",
    "\n",
    "    def __init__(self):\n",
    "\n",
    "        #empty linked list\n",
    "        self.head = None\n",
    "        self.n = 0 #counter - number of nodes \n",
    "\n",
    "    def __len__(self):\n",
    "        return self.n\n",
    "\n",
    "    def insert_head(self,value):\n",
    "        #new node\n",
    "        new_node = Node(value)\n",
    "        #create Connection\n",
    "        new_node.next = self.head\n",
    "        #reassign head\n",
    "        self.head = new_node\n",
    "        #increment n\n",
    "        self.n = self.n + 1\n",
    "        \n",
    "    def __str__(self):\n",
    "         curr = self.head\n",
    "         result = ''\n",
    "         while curr != None:\n",
    "             result = result + str(curr.data) + '->'\n",
    "             curr = curr.next\n",
    "\n",
    "         return result[:-2] # printing everything execpt the last character \n",
    "\n",
    "    def append(self,val):\n",
    "        new_node = Node(val)\n",
    "        if self.head == None:\n",
    "            #emty linkedlist\n",
    "            self.head = new_node\n",
    "            self.n = self.n +1\n",
    "            return # nothing is returned \n",
    "      \n",
    "        curr = self.head\n",
    "\n",
    "        while curr.next != None:\n",
    "            curr = curr.next\n",
    "\n",
    "        #you are at the last node\n",
    "        curr.next = new_node\n",
    "        self.n = self.n +1 \n",
    "\n",
    "    def insert_after(self,after,val):\n",
    "\n",
    "        new_node = Node(val)\n",
    "        curr = self.head\n",
    "\n",
    "        while curr != None :\n",
    "            if curr.data == after :\n",
    "                break \n",
    "            curr = curr.next # loop ko agge bada rhe hai \n",
    "\n",
    "        #case 1 -> break -> item is found -> means curr-> not none\n",
    "        if curr != None :\n",
    "            new_node.next = curr.next\n",
    "            curr.next = new_node\n",
    "            self.n = self.n + 1 \n",
    "        else : \n",
    "            #case 2 -> loop pura chala - > item is not found -> means curr-> None\n",
    "            return \" Item not found to insert after\"\n",
    "      \n",
    "    def  clear(self):\n",
    "        self.head = None \n",
    "        self.n = 0 \n",
    "\n",
    "\n",
    "    def delete_head(self):\n",
    "        if self.head == None:\n",
    "            return \"Empty linked list\"\n",
    "        else :\n",
    "            self.head = self.head.next\n",
    "            self.n = self.n - 1\n",
    "\n",
    "\n",
    "    def pop(self):\n",
    "        curr = self.head \n",
    "        # Checking if the LL is empty \n",
    "        if self.head == None:\n",
    "            return \"Empty LL\"\n",
    "        # Checking if there is only one item in the linked list\n",
    "        if curr.next == None:\n",
    "            #means there is head only\n",
    "            return self.delete_head()\n",
    "        \n",
    "        while curr.next.next != None:\n",
    "            curr = curr.next\n",
    "\n",
    "        #curr -> 2nd last node\n",
    "        curr.next = None \n",
    "        self.n = self.n - 1  \n",
    "         \n",
    "\n",
    "    def remove(self,val):\n",
    "\n",
    "        if self.head == None :\n",
    "            return \"Emty LL\"\n",
    "\n",
    "        if self.head.data == val:\n",
    "            # means this is the first item and it is our head also \n",
    "            return self.delete_head()\n",
    "            \n",
    "        curr = self.head \n",
    "\n",
    "        while curr.next != None:\n",
    "            if curr.next.data == val: # ek node phle rukna hai \n",
    "                break\n",
    "            #otherwise agge chalo\n",
    "            curr = curr.next \n",
    "        # case_1 = Item Found and case_2 = Item not found \n",
    "\n",
    "        if curr.next == None:\n",
    "            #loop se niklne ke baad None hai to matlab item nhi mila \n",
    "            return \"Item Not found for deletion\"\n",
    "        else:\n",
    "            curr.next = curr.next.next\n",
    "            self.n = self.n - 1 \n",
    "        \n",
    "            \n",
    "    def serach(self,item):\n",
    "        curr = self.head \n",
    "        pos = 0\n",
    "        while curr != None:\n",
    "            if curr.data == item:\n",
    "                return pos\n",
    "            curr = curr.next\n",
    "            pos = pos + 1\n",
    "        #Agr loop ke bhar anne ke baad bhi return nhi kiya hai then \n",
    "        return \"Item Not Found\"\n",
    "        \n",
    "    #for searching by index value\n",
    "    def __getitem__(self,index):#magic method \n",
    "\n",
    "        curr = self.head\n",
    "        pos = 0\n",
    "\n",
    "        while curr != None:\n",
    "            if pos == index:\n",
    "                return curr.data\n",
    "                \n",
    "            curr = curr.next\n",
    "            pos = pos + 1\n",
    "\n",
    "        return \"Index Error\"\n",
    "\n",
    "    def __delitem__(self, index):\n",
    "        # Deletion by Index\n",
    "        if self.head is None:\n",
    "            return \"The Linked list is Empty\"\n",
    "\n",
    "       # Case 1: Deleting the head node\n",
    "        if index == 0:\n",
    "            self.head = self.head.next\n",
    "            return \"Node deleted\"\n",
    "\n",
    "\n",
    "      \n",
    "           \n",
    "      # Traverse the list to find the node at index\n",
    "        curr = self.head\n",
    "        pos = 0\n",
    "       \n",
    "        while curr is not None:\n",
    "            # Check if the next node is the one to delete\n",
    "            if pos == index - 1:\n",
    "                if curr.next is None:\n",
    "                    return \"Index Error\"  # Index out of bounds\n",
    "                curr.next = curr.next.next\n",
    "                return \"Node deleted\"\n",
    "            curr = curr.next\n",
    "            pos += 1\n",
    "\n",
    "      # If index is out of bounds\n",
    "        return \"Index Error\"\n",
    "\n",
    "        "
   ]
  },
  {
   "cell_type": "code",
   "execution_count": 79,
   "id": "5a4b0e42-2a57-460f-9906-d1612554aafa",
   "metadata": {},
   "outputs": [],
   "source": [
    "L = LinkedList()"
   ]
  },
  {
   "cell_type": "code",
   "execution_count": 81,
   "id": "7ab24361-ce63-47b2-99de-e973ccbc5826",
   "metadata": {},
   "outputs": [],
   "source": [
    "L.insert_head(1)\n",
    "L.insert_head(2)\n",
    "L.insert_head(3)\n",
    "L.insert_head(4)"
   ]
  },
  {
   "cell_type": "code",
   "execution_count": 83,
   "id": "37139a81-4d4e-40cd-9877-9b4a4ad511a5",
   "metadata": {},
   "outputs": [
    {
     "data": {
      "text/plain": [
       "4"
      ]
     },
     "execution_count": 83,
     "metadata": {},
     "output_type": "execute_result"
    }
   ],
   "source": [
    "len(L)"
   ]
  },
  {
   "cell_type": "code",
   "execution_count": 85,
   "id": "91d96156-aea1-4a83-8af4-bd4d5b602ab4",
   "metadata": {},
   "outputs": [
    {
     "name": "stdout",
     "output_type": "stream",
     "text": [
      "4->3->2->1\n"
     ]
    }
   ],
   "source": [
    "print(L)"
   ]
  },
  {
   "cell_type": "code",
   "execution_count": 87,
   "id": "285f6d96-f28e-44d9-ba9f-95e00634bbb2",
   "metadata": {},
   "outputs": [],
   "source": [
    "L.append(5)"
   ]
  },
  {
   "cell_type": "code",
   "execution_count": 89,
   "id": "5d40aa9a-9952-4a77-a31c-d3ba37af8c3c",
   "metadata": {},
   "outputs": [
    {
     "name": "stdout",
     "output_type": "stream",
     "text": [
      "4->3->2->1->5\n"
     ]
    }
   ],
   "source": [
    "print(L)"
   ]
  },
  {
   "cell_type": "code",
   "execution_count": 91,
   "id": "7dcbd697-f6f1-4d38-bb96-f7ed23640482",
   "metadata": {},
   "outputs": [],
   "source": [
    "l = LinkedList() # empty list "
   ]
  },
  {
   "cell_type": "code",
   "execution_count": 93,
   "id": "650c2b75-2aa3-46f0-be51-b8048ca7d74f",
   "metadata": {},
   "outputs": [
    {
     "name": "stdout",
     "output_type": "stream",
     "text": [
      "56\n"
     ]
    }
   ],
   "source": [
    "l.append(56)\n",
    "print(l)"
   ]
  },
  {
   "cell_type": "code",
   "execution_count": 95,
   "id": "960dbb94-2704-4ae9-a322-1098ec94ffea",
   "metadata": {},
   "outputs": [
    {
     "name": "stdout",
     "output_type": "stream",
     "text": [
      "4->3->2->1->5->89\n"
     ]
    }
   ],
   "source": [
    "L.append(89)\n",
    "print(L)"
   ]
  },
  {
   "cell_type": "code",
   "execution_count": 97,
   "id": "3d69b9f1-09c5-433b-b3d3-3d72cccad6c0",
   "metadata": {},
   "outputs": [],
   "source": [
    "L.insert_after(3,506)"
   ]
  },
  {
   "cell_type": "code",
   "execution_count": 99,
   "id": "4037c61b-3e77-4a56-94bb-299b514106ae",
   "metadata": {},
   "outputs": [
    {
     "name": "stdout",
     "output_type": "stream",
     "text": [
      "4->3->506->2->1->5->89\n"
     ]
    }
   ],
   "source": [
    "print(L)"
   ]
  },
  {
   "cell_type": "code",
   "execution_count": 101,
   "id": "cb99f7dc-5c10-400e-b264-b74a73aa4b62",
   "metadata": {},
   "outputs": [],
   "source": [
    "L.pop()"
   ]
  },
  {
   "cell_type": "code",
   "execution_count": 103,
   "id": "b80ee4d6-21b3-4403-a098-1cba8592f849",
   "metadata": {},
   "outputs": [],
   "source": [
    "L.remove(2)\n"
   ]
  },
  {
   "cell_type": "code",
   "execution_count": 105,
   "id": "f6615cb7-8d77-46c4-89c7-aafd23b056a6",
   "metadata": {},
   "outputs": [
    {
     "data": {
      "text/plain": [
       "2"
      ]
     },
     "execution_count": 105,
     "metadata": {},
     "output_type": "execute_result"
    }
   ],
   "source": [
    "L.serach(506)"
   ]
  },
  {
   "cell_type": "code",
   "execution_count": 107,
   "id": "a0abafba-0036-45b3-bbda-e0e5401c55a6",
   "metadata": {},
   "outputs": [
    {
     "data": {
      "text/plain": [
       "4"
      ]
     },
     "execution_count": 107,
     "metadata": {},
     "output_type": "execute_result"
    }
   ],
   "source": [
    "L[0]"
   ]
  },
  {
   "cell_type": "code",
   "execution_count": 113,
   "id": "ca27b751-282c-473c-b0c1-072acf5429b4",
   "metadata": {},
   "outputs": [],
   "source": [
    "del L[0]"
   ]
  },
  {
   "cell_type": "code",
   "execution_count": 115,
   "id": "b00dcdcf-4412-418a-8427-779c7a13ebb1",
   "metadata": {},
   "outputs": [
    {
     "name": "stdout",
     "output_type": "stream",
     "text": [
      "506->1->5\n"
     ]
    }
   ],
   "source": [
    "print(L)"
   ]
  },
  {
   "cell_type": "code",
   "execution_count": null,
   "id": "a7774624-f2ef-4530-9b83-11e3effad18d",
   "metadata": {},
   "outputs": [],
   "source": []
  }
 ],
 "metadata": {
  "kernelspec": {
   "display_name": "Python 3 (ipykernel)",
   "language": "python",
   "name": "python3"
  },
  "language_info": {
   "codemirror_mode": {
    "name": "ipython",
    "version": 3
   },
   "file_extension": ".py",
   "mimetype": "text/x-python",
   "name": "python",
   "nbconvert_exporter": "python",
   "pygments_lexer": "ipython3",
   "version": "3.12.4"
  }
 },
 "nbformat": 4,
 "nbformat_minor": 5
}
