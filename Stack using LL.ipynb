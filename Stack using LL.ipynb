{
 "cells": [
  {
   "cell_type": "code",
   "execution_count": 3,
   "id": "22cc836c-f2d2-41a4-af51-3254317ff8ab",
   "metadata": {},
   "outputs": [],
   "source": [
    "class Node:\n",
    "    def __init__(self,val):\n",
    "        self.data = val\n",
    "        self.next = None"
   ]
  },
  {
   "cell_type": "code",
   "execution_count": 5,
   "id": "a7c8511b-70b3-4ba7-8779-69fc284bf799",
   "metadata": {},
   "outputs": [],
   "source": [
    "class Stack:\n",
    "    def __init__(self):\n",
    "        self.top = None # head \n",
    "\n",
    "    def isempty(self):\n",
    "        if self.top == None:\n",
    "            return True\n",
    "        else :\n",
    "            return False\n",
    "        \n",
    "\n",
    "    def push(self,val):\n",
    "        new_node = Node(val)\n",
    "        new_node.next = self.top\n",
    "        self.top = new_node\n",
    "\n",
    "    def traverse(self):\n",
    "        temp = self.top\n",
    "        if self.top is None:\n",
    "            return \"empty stack\"\n",
    "        while temp != None:\n",
    "            print(temp.data)\n",
    "            temp = temp.next\n",
    "    \n",
    "        \n",
    "    def peek(self):\n",
    "         if (self.isempty()):\n",
    "             return \"Stack is empty\"\n",
    "         else :\n",
    "             return self.top.data\n",
    "          \n",
    "    def pop(self):\n",
    "         if (self.isempty()):\n",
    "             return \"Stack is empty\"\n",
    "         else : \n",
    "             self.top = self.top.next\n",
    "         \n",
    "    def size(self):\n",
    "        count = 0\n",
    "        temp = self.top\n",
    "        while temp is not None:\n",
    "            count = count+1\n",
    "            temp = temp.next\n",
    "        return count"
   ]
  },
  {
   "cell_type": "code",
   "execution_count": 180,
   "id": "82a42036-39d2-48da-b0eb-a39221abbf47",
   "metadata": {},
   "outputs": [],
   "source": [
    "s = Stack()"
   ]
  },
  {
   "cell_type": "code",
   "execution_count": 182,
   "id": "209c8728-118c-4fd3-94fb-3a44919b42a2",
   "metadata": {},
   "outputs": [
    {
     "data": {
      "text/plain": [
       "True"
      ]
     },
     "execution_count": 182,
     "metadata": {},
     "output_type": "execute_result"
    }
   ],
   "source": [
    "s.isempty()"
   ]
  },
  {
   "cell_type": "code",
   "execution_count": 184,
   "id": "502feb80-816b-4c17-acad-8aae8411f45a",
   "metadata": {},
   "outputs": [],
   "source": [
    "s.push(1)\n",
    "s.push(2)\n",
    "s.push(3)\n",
    "s.push(4)\n",
    "s.push(5)\n",
    "s.push(6)"
   ]
  },
  {
   "cell_type": "code",
   "execution_count": 186,
   "id": "97cf5014-1fb8-4483-9e3c-449f193b8f71",
   "metadata": {},
   "outputs": [
    {
     "data": {
      "text/plain": [
       "False"
      ]
     },
     "execution_count": 186,
     "metadata": {},
     "output_type": "execute_result"
    }
   ],
   "source": [
    "s.isempty()"
   ]
  },
  {
   "cell_type": "code",
   "execution_count": 188,
   "id": "6f48a4c8-ff77-447c-bcba-264a7a93086f",
   "metadata": {},
   "outputs": [
    {
     "name": "stdout",
     "output_type": "stream",
     "text": [
      "6\n",
      "5\n",
      "4\n",
      "3\n",
      "2\n",
      "1\n"
     ]
    }
   ],
   "source": [
    "s.traverse()"
   ]
  },
  {
   "cell_type": "code",
   "execution_count": 190,
   "id": "ea7637ad-29dc-4895-b735-92c91fa3143d",
   "metadata": {},
   "outputs": [],
   "source": [
    "s.pop()"
   ]
  },
  {
   "cell_type": "code",
   "execution_count": 192,
   "id": "16497146-706c-412e-b0d9-0f6d5905dc53",
   "metadata": {},
   "outputs": [
    {
     "data": {
      "text/plain": [
       "5"
      ]
     },
     "execution_count": 192,
     "metadata": {},
     "output_type": "execute_result"
    }
   ],
   "source": [
    "s.peek()"
   ]
  },
  {
   "cell_type": "code",
   "execution_count": 194,
   "id": "25ed4d54-2d0d-44a5-99f3-be9d23ed3f9f",
   "metadata": {},
   "outputs": [
    {
     "data": {
      "text/plain": [
       "5"
      ]
     },
     "execution_count": 194,
     "metadata": {},
     "output_type": "execute_result"
    }
   ],
   "source": [
    "s.size()"
   ]
  },
  {
   "cell_type": "code",
   "execution_count": 196,
   "id": "335f97a2-0815-41d4-b315-9685bee79790",
   "metadata": {},
   "outputs": [
    {
     "name": "stdout",
     "output_type": "stream",
     "text": [
      "5\n",
      "4\n",
      "3\n",
      "2\n",
      "1\n"
     ]
    }
   ],
   "source": [
    "s.traverse()"
   ]
  },
  {
   "cell_type": "code",
   "execution_count": null,
   "id": "1c677d2c-aecd-4e55-86b4-7625fd8e675c",
   "metadata": {},
   "outputs": [],
   "source": []
  }
 ],
 "metadata": {
  "kernelspec": {
   "display_name": "Python 3 (ipykernel)",
   "language": "python",
   "name": "python3"
  },
  "language_info": {
   "codemirror_mode": {
    "name": "ipython",
    "version": 3
   },
   "file_extension": ".py",
   "mimetype": "text/x-python",
   "name": "python",
   "nbconvert_exporter": "python",
   "pygments_lexer": "ipython3",
   "version": "3.12.4"
  }
 },
 "nbformat": 4,
 "nbformat_minor": 5
}
