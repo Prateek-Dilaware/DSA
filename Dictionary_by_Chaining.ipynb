{
 "cells": [
  {
   "cell_type": "code",
   "execution_count": 168,
   "id": "cb2e7635-b7fd-4260-be8f-aa3beff43681",
   "metadata": {},
   "outputs": [],
   "source": [
    "class Node :\n",
    "    def __init__(self,key,val):\n",
    "        self.key = key\n",
    "        self.val = val\n",
    "        self.next = None"
   ]
  },
  {
   "cell_type": "code",
   "execution_count": 297,
   "id": "29970c3c-ba1c-486d-b8b7-c6fdda48a932",
   "metadata": {},
   "outputs": [],
   "source": [
    "class LL:\n",
    "    def __init__(self):\n",
    "        self.head = None\n",
    "        \n",
    "    \n",
    "    def add(self,key,val):\n",
    "        #From tail\n",
    "        new_node = Node(key,val)\n",
    "        if self.head == None:\n",
    "            self.head = new_node\n",
    "            \n",
    "        else:\n",
    "            temp = self.head\n",
    "            while temp.next is not None:\n",
    "                temp = temp.next\n",
    "            \n",
    "            temp.next = new_node\n",
    "\n",
    "    def size(self):\n",
    "        temp = self.head\n",
    "        count = 0\n",
    "        while temp is not None:\n",
    "            count = count +1\n",
    "            temp = temp.next\n",
    "        return count\n",
    "    def delete_head(self):\n",
    "        \n",
    "        if self.head is None :\n",
    "            print(\"The list is empty. No head to delete.\")\n",
    "            return\n",
    "        else :\n",
    "            self.head = self.head.next\n",
    "            \n",
    "    def remove(self ,key):\n",
    "        # Returning true and false for updating the size later \n",
    "        if self.head is None:\n",
    "            print(\"The list is empty. No nodes to remove.\")\n",
    "            return False\n",
    "        if self.head.key == key:\n",
    "            self.delete_head()\n",
    "            return True\n",
    "        else:\n",
    "            temp = self.head\n",
    "            while temp.next is not None:\n",
    "                if temp.next.key == key:\n",
    "                    break\n",
    "                else:\n",
    "                    temp = temp.next\n",
    "            \n",
    "            if temp.next== None:\n",
    "                print(f\"Node with key {key} not found.\")\n",
    "                return False\n",
    "            else:\n",
    "                temp.next = temp.next.next\n",
    "                return True\n",
    "\n",
    "    def traverse(self):\n",
    "        temp = self.head\n",
    "        while temp != None:\n",
    "            print(temp.key,\"-->\",temp.val, \" \",end=\" \")\n",
    "            temp= temp.next\n",
    "            \n",
    "    def search(self,key):\n",
    "        temp = self.head\n",
    "        pos = 0\n",
    "        while temp is not None:\n",
    "            if temp.key == key:\n",
    "                return pos\n",
    "            temp = temp.next\n",
    "            pos = pos+1\n",
    "        return -1\n",
    "    def get_node_at_index(self,index):\n",
    "        temp =self.head\n",
    "        counter = 0\n",
    "        while temp is not None:\n",
    "            if counter == index:\n",
    "                return temp\n",
    "            temp = temp.next\n",
    "            counter = counter +1\n",
    "        return temp\n",
    "\n",
    "\n",
    "    \n",
    "    "
   ]
  },
  {
   "cell_type": "code",
   "execution_count": 347,
   "id": "be864fe9-c56e-4b0a-85d9-772cfe72ead4",
   "metadata": {},
   "outputs": [],
   "source": [
    "class Dictionary:\n",
    "    def __init__(self,capacity):\n",
    "        self.capacity = capacity\n",
    "        self.size = 0\n",
    "        #create a array of LL\n",
    "        self.buckets =self.make_array(self.capacity) # each Linked list is called bucket\n",
    "        \n",
    "        \n",
    "    def make_array(self,capacity):\n",
    "        L = [] # empty list\n",
    "        for j in range(capacity):\n",
    "            L.append(LL()) # This will append three different Linked list objects in the list\n",
    "        return L\n",
    "    def put(self,key,val):\n",
    "        bucket_index = self.hash_function(key)\n",
    "        \n",
    "        node_index = self.get_node_index(bucket_index,key)\n",
    "        if node_index == -1 : \n",
    "            #means this is the case of insertion because there was not any same key for updation\n",
    "            #insert\n",
    "            self.buckets[bucket_index].add(key,val)\n",
    "            self.size = self.size +1\n",
    "            \n",
    "            load_factor = self.size/self.capacity \n",
    "            print(\"The Size of load factor is currently\",load_factor)\n",
    "            \n",
    "            if (load_factor>= 2):\n",
    "                self.rehash()\n",
    "            \n",
    "        else:\n",
    "            #update\n",
    "            node = self.buckets[bucket_index].get_node_at_index(node_index)\n",
    "            node.val = val\n",
    "\n",
    "    def rehash(self):\n",
    "        self.capacity = self.capacity * 2\n",
    "        old_buckets = self.buckets\n",
    "        self.size = 0\n",
    "        self.buckets = self.make_array(self.capacity)\n",
    "        \n",
    "        for j in old_buckets:\n",
    "            #here j is an linked list\n",
    "            for k in range(j.size()):\n",
    "                node = j.get_node_at_index(k)\n",
    "                key_item = node.key\n",
    "                value_item = node.val\n",
    "                self.put(key_item,value_item)\n",
    "                \n",
    "            \n",
    "\n",
    "    def __setitem__(self,key,val):#magic method\n",
    "        self.put(key,val)\n",
    "\n",
    "    def get(self,key):#searching\n",
    "\n",
    "        bucket_index = self.hash_function(key)\n",
    "        \n",
    "        res = self.buckets[bucket_index].search(key)\n",
    "        if res == -1:\n",
    "            return \"Not found\"\n",
    "        else :\n",
    "            node = self.buckets[bucket_index].get_node_at_index(res)\n",
    "            return node.val\n",
    "\n",
    "    def __getitem__(self,key):#magic method\n",
    "        return self.get(key)\n",
    "        \n",
    "    def __delitem__(self,key):#magic method\n",
    "        bucket_index = self.hash_function(key)\n",
    "        if self.buckets[bucket_index].remove(key) :# Ensure remove() returns True when deletion succeeds\n",
    "            self.size = self.size -1 #Decrement size correctly\n",
    "        \n",
    "\n",
    "    def __str__(self):\n",
    "        for j in self.buckets:\n",
    "            j.traverse()\n",
    "        return \"\" # we have to return something in __str__ otherwise it throws an error    \n",
    "            \n",
    "    def __len__(self):\n",
    "        return self.size\n",
    "        \n",
    "            \n",
    "    def get_node_index(self,bucket_index,key):\n",
    "        node_index = self.buckets[bucket_index].search(key)\n",
    "        return node_index\n",
    "    \n",
    "    def hash_function(self,key):\n",
    "        return abs(hash(key)) % self.capacity\n",
    "        "
   ]
  },
  {
   "cell_type": "code",
   "execution_count": 349,
   "id": "588ad20c-4133-4223-96f7-e1ab09d60b65",
   "metadata": {},
   "outputs": [],
   "source": [
    "L = LL()"
   ]
  },
  {
   "cell_type": "code",
   "execution_count": 351,
   "id": "a7dd2834-4a91-4146-bd99-c6a9a4264b65",
   "metadata": {},
   "outputs": [],
   "source": [
    "L.add(1,5)\n",
    "L.add(2,6)\n",
    "L.add(3,6)"
   ]
  },
  {
   "cell_type": "code",
   "execution_count": 353,
   "id": "5c0eae01-4128-4533-8393-643836394002",
   "metadata": {},
   "outputs": [
    {
     "name": "stdout",
     "output_type": "stream",
     "text": [
      "1 --> 5   2 --> 6   3 --> 6   "
     ]
    }
   ],
   "source": [
    "L.traverse()"
   ]
  },
  {
   "cell_type": "code",
   "execution_count": 355,
   "id": "dd9f43ea-3bf3-41eb-b9f2-cc5ad543ddf0",
   "metadata": {},
   "outputs": [
    {
     "data": {
      "text/plain": [
       "2"
      ]
     },
     "execution_count": 355,
     "metadata": {},
     "output_type": "execute_result"
    }
   ],
   "source": [
    "L.get_node_at_index(1).key"
   ]
  },
  {
   "cell_type": "code",
   "execution_count": 357,
   "id": "7325dc59-d394-4ad9-a3c5-da2996f95d46",
   "metadata": {},
   "outputs": [],
   "source": [
    "d1 = Dictionary(4)"
   ]
  },
  {
   "cell_type": "code",
   "execution_count": 359,
   "id": "fc3731dd-33d8-4e58-aa81-3a85eeb94832",
   "metadata": {},
   "outputs": [
    {
     "name": "stdout",
     "output_type": "stream",
     "text": [
      "The Size of load factor is currently 0.25\n"
     ]
    }
   ],
   "source": [
    "d1[\"java\"] =45 "
   ]
  },
  {
   "cell_type": "code",
   "execution_count": 361,
   "id": "e9f65068-02e2-4632-9806-519a086e9179",
   "metadata": {},
   "outputs": [
    {
     "name": "stdout",
     "output_type": "stream",
     "text": [
      "java --> 45   \n"
     ]
    }
   ],
   "source": [
    "print(d1)"
   ]
  },
  {
   "cell_type": "code",
   "execution_count": 363,
   "id": "f7cd88c3-cced-4e5d-a75f-96e4cd3ef3bc",
   "metadata": {},
   "outputs": [],
   "source": [
    "d1.put(\"java\",56)"
   ]
  },
  {
   "cell_type": "code",
   "execution_count": 365,
   "id": "94e7a73f-0cd7-49f2-95c1-0ca5bb11fc89",
   "metadata": {},
   "outputs": [
    {
     "data": {
      "text/plain": [
       "56"
      ]
     },
     "execution_count": 365,
     "metadata": {},
     "output_type": "execute_result"
    }
   ],
   "source": [
    "d1[\"java\"]"
   ]
  },
  {
   "cell_type": "code",
   "execution_count": 367,
   "id": "f28797db-eab9-4a28-811c-e686d24be318",
   "metadata": {},
   "outputs": [
    {
     "data": {
      "text/plain": [
       "[<__main__.LL at 0x2695762e3f0>,\n",
       " <__main__.LL at 0x2695762d5b0>,\n",
       " <__main__.LL at 0x2695762fef0>,\n",
       " <__main__.LL at 0x2695762f380>]"
      ]
     },
     "execution_count": 367,
     "metadata": {},
     "output_type": "execute_result"
    }
   ],
   "source": [
    "d1.buckets"
   ]
  },
  {
   "cell_type": "code",
   "execution_count": 369,
   "id": "f2d51e25-b8a9-4088-91e5-17c838e77d4e",
   "metadata": {},
   "outputs": [
    {
     "name": "stdout",
     "output_type": "stream",
     "text": [
      "The Size of load factor is currently 0.5\n"
     ]
    }
   ],
   "source": [
    "d1[\"php\"] = 36"
   ]
  },
  {
   "cell_type": "code",
   "execution_count": 371,
   "id": "c01eaeda-67c6-480c-a569-4b1475b13c9e",
   "metadata": {},
   "outputs": [
    {
     "name": "stdout",
     "output_type": "stream",
     "text": [
      "The Size of load factor is currently 0.75\n",
      "The Size of load factor is currently 1.0\n",
      "The Size of load factor is currently 1.25\n",
      "The Size of load factor is currently 1.5\n"
     ]
    }
   ],
   "source": [
    "d1[\"python\"] =44\n",
    "d1[\"c\"]= 78\n",
    "d1['c++'] = 69\n",
    "d1[6] = 66"
   ]
  },
  {
   "cell_type": "code",
   "execution_count": 373,
   "id": "d0985acb-b244-440d-95af-e9caf48d2593",
   "metadata": {},
   "outputs": [
    {
     "data": {
      "text/plain": [
       "66"
      ]
     },
     "execution_count": 373,
     "metadata": {},
     "output_type": "execute_result"
    }
   ],
   "source": [
    "d1[6]"
   ]
  },
  {
   "cell_type": "code",
   "execution_count": 375,
   "id": "274afa49-f8d9-459d-a831-ef2c8ebfefbc",
   "metadata": {},
   "outputs": [],
   "source": [
    "del d1[6]"
   ]
  },
  {
   "cell_type": "code",
   "execution_count": 377,
   "id": "96cff1e6-8c12-43d1-a42f-9eff50506f7a",
   "metadata": {},
   "outputs": [
    {
     "data": {
      "text/plain": [
       "'Not found'"
      ]
     },
     "execution_count": 377,
     "metadata": {},
     "output_type": "execute_result"
    }
   ],
   "source": [
    "d1[6]"
   ]
  },
  {
   "cell_type": "code",
   "execution_count": 379,
   "id": "5a5c2696-53b0-4b88-9825-fa55f824c1b5",
   "metadata": {},
   "outputs": [],
   "source": [
    "del d1[\"php\"]"
   ]
  },
  {
   "cell_type": "code",
   "execution_count": 381,
   "id": "77b490c1-b476-4a5f-8040-b2627f39fcc9",
   "metadata": {},
   "outputs": [
    {
     "name": "stdout",
     "output_type": "stream",
     "text": [
      "c --> 78   java --> 56   python --> 44   c++ --> 69   \n"
     ]
    }
   ],
   "source": [
    "print(d1)"
   ]
  },
  {
   "cell_type": "code",
   "execution_count": 383,
   "id": "16b4a3af-fdc4-4bb8-86b7-114e19579773",
   "metadata": {},
   "outputs": [
    {
     "data": {
      "text/plain": [
       "4"
      ]
     },
     "execution_count": 383,
     "metadata": {},
     "output_type": "execute_result"
    }
   ],
   "source": [
    "len(d1)"
   ]
  },
  {
   "cell_type": "code",
   "execution_count": 385,
   "id": "b021a4e0-16e7-4d0a-9f38-5f2e178f5697",
   "metadata": {},
   "outputs": [
    {
     "name": "stdout",
     "output_type": "stream",
     "text": [
      "The Size of load factor is currently 1.25\n"
     ]
    }
   ],
   "source": [
    "d1[\"node.js\"] = 99"
   ]
  },
  {
   "cell_type": "code",
   "execution_count": 387,
   "id": "dc3e5ebf-ea39-4b06-b229-f5a86b52b208",
   "metadata": {},
   "outputs": [
    {
     "data": {
      "text/plain": [
       "5"
      ]
     },
     "execution_count": 387,
     "metadata": {},
     "output_type": "execute_result"
    }
   ],
   "source": [
    "len(d1)"
   ]
  },
  {
   "cell_type": "code",
   "execution_count": null,
   "id": "70d563c8-e8fb-4887-837d-f43bccfa517e",
   "metadata": {},
   "outputs": [],
   "source": []
  }
 ],
 "metadata": {
  "kernelspec": {
   "display_name": "Python 3 (ipykernel)",
   "language": "python",
   "name": "python3"
  },
  "language_info": {
   "codemirror_mode": {
    "name": "ipython",
    "version": 3
   },
   "file_extension": ".py",
   "mimetype": "text/x-python",
   "name": "python",
   "nbconvert_exporter": "python",
   "pygments_lexer": "ipython3",
   "version": "3.12.4"
  }
 },
 "nbformat": 4,
 "nbformat_minor": 5
}
