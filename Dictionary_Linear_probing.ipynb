{
 "cells": [
  {
   "cell_type": "code",
   "execution_count": 99,
   "id": "2f4080da-1eca-480b-be0d-f9284cfe8e24",
   "metadata": {},
   "outputs": [],
   "source": [
    "class Dictonary:\n",
    "    def __init__(self,size):\n",
    "        self.size = size\n",
    "        self.slots = [None] * self.size\n",
    "        self.data = [None] * self.size\n",
    "    def put(self,key,val):\n",
    "        hash_value = self.hash_function(key)\n",
    "        \n",
    "        if self.slots[hash_value]== None:\n",
    "            self.slots[hash_value] = key\n",
    "            self.data[hash_value] = val\n",
    "        else :\n",
    "            if self.slots[hash_value] == key:# Means we are changing/updating data of key which is already present \n",
    "                self.data[hash_value] == val\n",
    "            else:\n",
    "                new_hash_value = self.rehash(hash_value)\n",
    "                \n",
    "                while self.slots[new_hash_value]!= None and self.slots[new_hash_value] != key : #same key values bhi ho skti hai \n",
    "                    new_hash_value = self.rehash(new_hash_value)\n",
    "                \n",
    "                #after while loop ends \n",
    "                if self.slots[new_hash_value] == None:\n",
    "                    self.slots[new_hash_value] = key\n",
    "                    self.data[new_hash_value] = val\n",
    "                else:\n",
    "                    #else there is same key  means update value in data array\n",
    "                    self.data[new_hash_value] = val\n",
    "\n",
    "    def __setitem__(self,key,val):# magic method for dictionary notation\n",
    "        self.put(key,val)\n",
    "\n",
    "    def get(self,key):\n",
    "        start_position = self.hash_function(key)\n",
    "        current_position = start_position\n",
    "        \n",
    "        while self.slots[current_position] is not None:\n",
    "            if self.slots[current_position] == key:\n",
    "                return self.data[current_position]\n",
    "            \n",
    "            current_position = self.rehash(current_position)\n",
    "            if current_position == start_position:\n",
    "                # matalab ghum_phir kar initial position pr vapis gye, None bhi nhi mila or na hi key mili\n",
    "                return \"Not found\"\n",
    "\n",
    "        return \"None wala Not Found\"\n",
    "\n",
    "    def __getitem__(self,key):\n",
    "        return self.get(key)\n",
    "\n",
    "    def __str__(self):\n",
    "        #magic method for printing dict\n",
    "        for j in range(len(self.slots)):\n",
    "            if self.slots[j] is not None:\n",
    "                print(self.slots[j],\":\",self.data[j], end=\" \")\n",
    "        \n",
    "        return \"\"\n",
    "    \n",
    "    def rehash(self,old_hash):\n",
    "        return (old_hash + 1)% self.size #we are doing modulus with size beacuse it will not exceed the size of array\n",
    "        \n",
    "    def hash_function(self,key):\n",
    "        return abs(hash(key)) % self.size\n",
    "        "
   ]
  },
  {
   "cell_type": "code",
   "execution_count": 101,
   "id": "f2a3b9b7-39fa-4749-85ff-dbeb22614eca",
   "metadata": {},
   "outputs": [
    {
     "data": {
      "text/plain": [
       "8923"
      ]
     },
     "execution_count": 101,
     "metadata": {},
     "output_type": "execute_result"
    }
   ],
   "source": [
    "hash(8923)"
   ]
  },
  {
   "cell_type": "code",
   "execution_count": 103,
   "id": "ceac265d-9e01-4c58-8cc3-afaebd630c73",
   "metadata": {},
   "outputs": [
    {
     "data": {
      "text/plain": [
       "-4475374270866640299"
      ]
     },
     "execution_count": 103,
     "metadata": {},
     "output_type": "execute_result"
    }
   ],
   "source": [
    "hash(\"hello\") # hash will not work for mutable data type "
   ]
  },
  {
   "cell_type": "code",
   "execution_count": 105,
   "id": "f924ff27-6f1c-4435-925a-6e646c9b23c0",
   "metadata": {},
   "outputs": [
    {
     "data": {
      "text/plain": [
       "1152921504606846977"
      ]
     },
     "execution_count": 105,
     "metadata": {},
     "output_type": "execute_result"
    }
   ],
   "source": [
    "hash(1.5)"
   ]
  },
  {
   "cell_type": "code",
   "execution_count": 109,
   "id": "c29377f9-cd32-4f4b-8a16-1f0bf909ebcc",
   "metadata": {},
   "outputs": [
    {
     "ename": "TypeError",
     "evalue": "unhashable type: 'list'",
     "output_type": "error",
     "traceback": [
      "\u001b[1;31m---------------------------------------------------------------------------\u001b[0m",
      "\u001b[1;31mTypeError\u001b[0m                                 Traceback (most recent call last)",
      "Cell \u001b[1;32mIn[109], line 1\u001b[0m\n\u001b[1;32m----> 1\u001b[0m \u001b[38;5;28mhash\u001b[39m([\u001b[38;5;241m1\u001b[39m,\u001b[38;5;241m2\u001b[39m,\u001b[38;5;241m3\u001b[39m])\n",
      "\u001b[1;31mTypeError\u001b[0m: unhashable type: 'list'"
     ]
    }
   ],
   "source": [
    "hash([1,2,3]) # only works for immutable data type"
   ]
  },
  {
   "cell_type": "code",
   "execution_count": 111,
   "id": "9837b890-0117-483b-a0ac-21ced8111562",
   "metadata": {},
   "outputs": [],
   "source": [
    "# Sometimes hash can give negative value , so for making it positive value\n",
    "# we will use abs() fucntion which always gives positive value"
   ]
  },
  {
   "cell_type": "code",
   "execution_count": 113,
   "id": "eb6e0b07-13dc-40a6-99ad-fa41ce1a0051",
   "metadata": {},
   "outputs": [
    {
     "data": {
      "text/plain": [
       "4475374270866640299"
      ]
     },
     "execution_count": 113,
     "metadata": {},
     "output_type": "execute_result"
    }
   ],
   "source": [
    "abs(hash(\"hello\"))"
   ]
  },
  {
   "cell_type": "code",
   "execution_count": 115,
   "id": "53b175c1-a833-4e23-87b0-e781bd1c69e4",
   "metadata": {},
   "outputs": [
    {
     "data": {
      "text/plain": [
       "4"
      ]
     },
     "execution_count": 115,
     "metadata": {},
     "output_type": "execute_result"
    }
   ],
   "source": [
    "#for making it shorter \n",
    "abs(hash(\"hello\"))%5"
   ]
  },
  {
   "cell_type": "code",
   "execution_count": 117,
   "id": "fa5ab6b9-3f7a-48c7-a0e0-d626c29e363c",
   "metadata": {},
   "outputs": [],
   "source": [
    "D1 = Dictonary(3)"
   ]
  },
  {
   "cell_type": "code",
   "execution_count": 119,
   "id": "0fabbea8-1ab9-4abf-97e4-5e290dc2fac1",
   "metadata": {},
   "outputs": [
    {
     "name": "stdout",
     "output_type": "stream",
     "text": [
      "[None, None, None]\n",
      "[None, None, None]\n"
     ]
    }
   ],
   "source": [
    "print(D1.data)\n",
    "print(D1.slots)"
   ]
  },
  {
   "cell_type": "code",
   "execution_count": 121,
   "id": "9a801d56-9346-4d72-a85d-a08ddf71a846",
   "metadata": {},
   "outputs": [],
   "source": [
    "D1.put(\"python\",100)"
   ]
  },
  {
   "cell_type": "code",
   "execution_count": 123,
   "id": "f6941100-ac86-4ce7-921d-086ea4779dc3",
   "metadata": {},
   "outputs": [
    {
     "name": "stdout",
     "output_type": "stream",
     "text": [
      "[None, None, 100]\n",
      "[None, None, 'python']\n"
     ]
    }
   ],
   "source": [
    "print(D1.data)\n",
    "print(D1.slots)"
   ]
  },
  {
   "cell_type": "code",
   "execution_count": 125,
   "id": "c64f3ac3-ad83-4564-a35a-c34c528d26b5",
   "metadata": {},
   "outputs": [],
   "source": [
    "D1.put(\"Java\",100) # different keys can have same values"
   ]
  },
  {
   "cell_type": "code",
   "execution_count": 127,
   "id": "934f7a5c-eb61-4e97-b3db-ecd6eabe658a",
   "metadata": {},
   "outputs": [
    {
     "name": "stdout",
     "output_type": "stream",
     "text": [
      "[100, None, 100]\n",
      "['Java', None, 'python']\n"
     ]
    }
   ],
   "source": [
    "print(D1.data)\n",
    "print(D1.slots)"
   ]
  },
  {
   "cell_type": "code",
   "execution_count": 129,
   "id": "935eee1d-59cd-4b55-a85a-e43125dd0e2b",
   "metadata": {},
   "outputs": [],
   "source": [
    "D1.put(\"Html\",69)"
   ]
  },
  {
   "cell_type": "code",
   "execution_count": 131,
   "id": "6d8fd249-5082-44aa-9f1b-e3dbdc67eb39",
   "metadata": {},
   "outputs": [
    {
     "name": "stdout",
     "output_type": "stream",
     "text": [
      "[100, 69, 100]\n",
      "['Java', 'Html', 'python']\n"
     ]
    }
   ],
   "source": [
    "print(D1.data)\n",
    "print(D1.slots)"
   ]
  },
  {
   "cell_type": "code",
   "execution_count": 150,
   "id": "b328f278-d59f-481f-940d-add943c7f801",
   "metadata": {},
   "outputs": [],
   "source": [
    "#now we can update our keys\n",
    "D1[\"Java\"] = 12"
   ]
  },
  {
   "cell_type": "code",
   "execution_count": 156,
   "id": "5b8d73d6-d998-418e-9780-0253131d6345",
   "metadata": {},
   "outputs": [
    {
     "name": "stdout",
     "output_type": "stream",
     "text": [
      "Java : 12 Html : 69 python : 100 \n"
     ]
    }
   ],
   "source": [
    "print(D1)"
   ]
  },
  {
   "cell_type": "code",
   "execution_count": 152,
   "id": "fde2609b-f2fe-4fda-8461-028e701dff2a",
   "metadata": {},
   "outputs": [
    {
     "name": "stdout",
     "output_type": "stream",
     "text": [
      "[12, 69, 100]\n",
      "['Java', 'Html', 'python']\n"
     ]
    }
   ],
   "source": [
    "print(D1.data)\n",
    "print(D1.slots)"
   ]
  },
  {
   "cell_type": "code",
   "execution_count": 137,
   "id": "e7eecb43-99ed-43bd-8508-40bed5ba97af",
   "metadata": {},
   "outputs": [],
   "source": [
    "d2 = Dictonary(3)\n"
   ]
  },
  {
   "cell_type": "code",
   "execution_count": 139,
   "id": "f6298410-33b9-49ab-8ca2-95323f8fe7c0",
   "metadata": {},
   "outputs": [],
   "source": [
    "d2[\"abxc\"] = 90"
   ]
  },
  {
   "cell_type": "code",
   "execution_count": 141,
   "id": "fa8982b8-0279-4895-b77e-94c383243358",
   "metadata": {},
   "outputs": [],
   "source": [
    "d2[\"alpha\"] = 46\n"
   ]
  },
  {
   "cell_type": "code",
   "execution_count": 143,
   "id": "27da1dd0-b3f2-4678-83a7-395ab7bf4757",
   "metadata": {},
   "outputs": [
    {
     "data": {
      "text/plain": [
       "69"
      ]
     },
     "execution_count": 143,
     "metadata": {},
     "output_type": "execute_result"
    }
   ],
   "source": [
    "D1[\"Html\"]"
   ]
  },
  {
   "cell_type": "code",
   "execution_count": 146,
   "id": "fa9888b5-4a17-4f13-8501-72fdeaca9d94",
   "metadata": {},
   "outputs": [
    {
     "name": "stdout",
     "output_type": "stream",
     "text": [
      "Java : 12 Html : 69 python : 100 \n"
     ]
    }
   ],
   "source": [
    "print(D1)"
   ]
  },
  {
   "cell_type": "code",
   "execution_count": 148,
   "id": "8fabbcfd-a5f6-404b-97fe-dc8feedae6a4",
   "metadata": {},
   "outputs": [
    {
     "name": "stdout",
     "output_type": "stream",
     "text": [
      "abxc : 90 alpha : 46 \n"
     ]
    }
   ],
   "source": [
    "print(d2)"
   ]
  },
  {
   "cell_type": "code",
   "execution_count": null,
   "id": "1515bcb7-1322-4413-88d9-bf6c93d15a5e",
   "metadata": {},
   "outputs": [],
   "source": []
  }
 ],
 "metadata": {
  "kernelspec": {
   "display_name": "Python 3 (ipykernel)",
   "language": "python",
   "name": "python3"
  },
  "language_info": {
   "codemirror_mode": {
    "name": "ipython",
    "version": 3
   },
   "file_extension": ".py",
   "mimetype": "text/x-python",
   "name": "python",
   "nbconvert_exporter": "python",
   "pygments_lexer": "ipython3",
   "version": "3.12.4"
  }
 },
 "nbformat": 4,
 "nbformat_minor": 5
}
