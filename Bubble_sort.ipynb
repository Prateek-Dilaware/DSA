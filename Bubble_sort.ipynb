{
 "cells": [
  {
   "cell_type": "code",
   "execution_count": 6,
   "id": "6710ea4f-369a-49c2-bd81-3f61f8e3d9c3",
   "metadata": {},
   "outputs": [],
   "source": [
    "def bubble_sort(arr):\n",
    "    for j in range(len(arr)-1) : #second last element tak\n",
    "        flag = 0\n",
    "        for k in range(len(arr)-1-j):#comparison\n",
    "            if arr[k] > arr[k+1]:\n",
    "                #swap\n",
    "                arr[k],arr[k+1] = arr[k+1],arr[k]\n",
    "                flag = 1\n",
    "        if flag == 0:\n",
    "            break\n",
    "    print(arr)\n",
    "        "
   ]
  },
  {
   "cell_type": "code",
   "execution_count": 8,
   "id": "83ac9f53-de9f-4152-ab6b-83008b40a472",
   "metadata": {},
   "outputs": [
    {
     "name": "stdout",
     "output_type": "stream",
     "text": [
      "[2, 3, 25, 34, 45, 65, 76, 98]\n"
     ]
    }
   ],
   "source": [
    "arr = [2,34,25,65,3,45,98,76]\n",
    "bubble_sort(arr)"
   ]
  },
  {
   "cell_type": "code",
   "execution_count": 10,
   "id": "24c58f7d-eeb2-415b-a8dc-90974f527c2c",
   "metadata": {},
   "outputs": [
    {
     "name": "stdout",
     "output_type": "stream",
     "text": [
      "[1, 2, 3, 4, 5]\n"
     ]
    }
   ],
   "source": [
    "arr = [1,2,3,4,5]\n",
    "bubble_sort(arr)"
   ]
  },
  {
   "cell_type": "code",
   "execution_count": null,
   "id": "35a45862-fe22-4443-8a73-756fce5a07cf",
   "metadata": {},
   "outputs": [],
   "source": []
  }
 ],
 "metadata": {
  "kernelspec": {
   "display_name": "Python 3 (ipykernel)",
   "language": "python",
   "name": "python3"
  },
  "language_info": {
   "codemirror_mode": {
    "name": "ipython",
    "version": 3
   },
   "file_extension": ".py",
   "mimetype": "text/x-python",
   "name": "python",
   "nbconvert_exporter": "python",
   "pygments_lexer": "ipython3",
   "version": "3.12.4"
  }
 },
 "nbformat": 4,
 "nbformat_minor": 5
}
