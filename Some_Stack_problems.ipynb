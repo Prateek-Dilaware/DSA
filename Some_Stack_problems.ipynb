{
 "cells": [
  {
   "cell_type": "code",
   "execution_count": 8,
   "id": "22cc836c-f2d2-41a4-af51-3254317ff8ab",
   "metadata": {},
   "outputs": [],
   "source": [
    "class Node:\n",
    "    def __init__(self,val):\n",
    "        self.data = val\n",
    "        self.next = None"
   ]
  },
  {
   "cell_type": "code",
   "execution_count": 10,
   "id": "a7c8511b-70b3-4ba7-8779-69fc284bf799",
   "metadata": {},
   "outputs": [],
   "source": [
    "class Stack:\n",
    "    def __init__(self):\n",
    "        self.top = None # head \n",
    "\n",
    "    def isempty(self):\n",
    "        if self.top == None:\n",
    "            return True\n",
    "        else :\n",
    "            return False\n",
    "        \n",
    "\n",
    "    def push(self,val):\n",
    "        new_node = Node(val)\n",
    "        new_node.next = self.top\n",
    "        self.top = new_node\n",
    "\n",
    "    def traverse(self):\n",
    "        temp = self.top\n",
    "        if self.top is None:\n",
    "            return \"empty stack\"\n",
    "        while temp != None:\n",
    "            print(temp.data)\n",
    "            temp = temp.next\n",
    "    \n",
    "        \n",
    "    def peek(self):\n",
    "         if (self.isempty()):\n",
    "             return \"Stack is empty\"\n",
    "         else :\n",
    "             return self.top.data\n",
    "          \n",
    "    def pop(self):\n",
    "         if (self.isempty()):\n",
    "             return \" Empty Stack \"\n",
    "         else : \n",
    "             data = self.top.data\n",
    "             self.top = self.top.next\n",
    "             return data\n",
    "         \n",
    "    def size(self):\n",
    "        count = 0\n",
    "        temp = self.top\n",
    "        while temp is not None:\n",
    "            count = count+1\n",
    "            temp = temp.next\n",
    "        return count"
   ]
  },
  {
   "cell_type": "code",
   "execution_count": 12,
   "id": "1c677d2c-aecd-4e55-86b4-7625fd8e675c",
   "metadata": {},
   "outputs": [],
   "source": [
    "def reverse_string(txt):\n",
    "    s = Stack()\n",
    "    for j in txt :\n",
    "        s.push(j)\n",
    "    res = \"\" #empty string\n",
    "    while(not s.isempty()):\n",
    "        res = res + s.pop()\n",
    "\n",
    "    print(res)"
   ]
  },
  {
   "cell_type": "code",
   "execution_count": 14,
   "id": "e8547f42-65f5-4979-885c-d1e5c985d0ed",
   "metadata": {},
   "outputs": [
    {
     "name": "stdout",
     "output_type": "stream",
     "text": [
      "865\n"
     ]
    }
   ],
   "source": [
    "reverse_string(\"568\")"
   ]
  },
  {
   "cell_type": "code",
   "execution_count": 16,
   "id": "3c414eef-9867-4cb5-966e-a1100841f216",
   "metadata": {},
   "outputs": [],
   "source": [
    "l = 'dkd5'\n"
   ]
  },
  {
   "cell_type": "code",
   "execution_count": 18,
   "id": "f555cebf-d57d-4b28-9d92-f61cb970eb66",
   "metadata": {},
   "outputs": [
    {
     "name": "stdout",
     "output_type": "stream",
     "text": [
      "5dkd\n"
     ]
    }
   ],
   "source": [
    "reverse_string(l)"
   ]
  },
  {
   "cell_type": "code",
   "execution_count": 20,
   "id": "f85b4433-baeb-4adf-817a-c3bf7eec05f9",
   "metadata": {},
   "outputs": [],
   "source": [
    "def text_editor(text, pattern):\n",
    "    u = Stack() #1st stack \n",
    "    r = Stack() #2nd stack\n",
    "    for j in text:\n",
    "        u.push(j)\n",
    "\n",
    "    for j in pattern:\n",
    "        #u= undo and r = redo\n",
    "        if j == \"u\":\n",
    "            data = u.pop()\n",
    "            r.push(data)\n",
    "        else : \n",
    "            data = r.pop()\n",
    "            u.push(data)\n",
    "    res = \"\"\n",
    "    while(not u.isempty()):\n",
    "        res = u.pop() + res\n",
    "\n",
    "    print(res)\n",
    "    "
   ]
  },
  {
   "cell_type": "code",
   "execution_count": 22,
   "id": "b0ab061e-67aa-42ec-9925-e5921a4d6197",
   "metadata": {},
   "outputs": [
    {
     "name": "stdout",
     "output_type": "stream",
     "text": [
      "SevenWO\n"
     ]
    }
   ],
   "source": [
    "text_editor(\"SevenWOrds\",\"uuruuruur\")"
   ]
  },
  {
   "cell_type": "code",
   "execution_count": 72,
   "id": "215eb5ea-8cb8-473e-961f-31bc49f6fd79",
   "metadata": {},
   "outputs": [],
   "source": [
    "M = [\n",
    "    [0,1,0,1],\n",
    "    [1,0,1,0],\n",
    "    [1,0,0,0],\n",
    "    [1,0,0,0]\n",
    "]"
   ]
  },
  {
   "cell_type": "code",
   "execution_count": 74,
   "id": "7851c61c-d1c1-4e01-9061-4aed59ce6364",
   "metadata": {},
   "outputs": [],
   "source": [
    "def find_the_celeb(L):\n",
    "    s = Stack()\n",
    "    for k in range(len(M)):\n",
    "        s.push(k)\n",
    "        \n",
    "    while s.size()>=2 : #atleast two values should remain in stack \n",
    "        i = s.pop()\n",
    "        j = s.pop()\n",
    "        if L[i][j] == 0:\n",
    "            # j is not a celebrity \n",
    "            s.push(i)\n",
    "        else :\n",
    "            # i is not a celebrity\n",
    "            s.push(j)\n",
    "\n",
    "    celeb = s.pop()\n",
    "    # checking if the last one is  actually celebrity \n",
    "    for k in range(len(L)):\n",
    "        if k != celeb:\n",
    "            if L[k][celeb] == 0 or L[celeb][k]==1:\n",
    "                print(\"No one is celebrity\")\n",
    "                return\n",
    "\n",
    "    print(f\"The celebrity is {celeb}th\" )\n",
    "        "
   ]
  },
  {
   "cell_type": "code",
   "execution_count": 76,
   "id": "3d46f5b9-d505-4ce8-8cee-a4f486492aca",
   "metadata": {},
   "outputs": [
    {
     "name": "stdout",
     "output_type": "stream",
     "text": [
      "No one is celebrity\n"
     ]
    }
   ],
   "source": [
    "find_the_celeb(M)"
   ]
  },
  {
   "cell_type": "code",
   "execution_count": 78,
   "id": "69f7d5c0-0a23-4dd7-a6a5-66f1ecd7587a",
   "metadata": {},
   "outputs": [
    {
     "data": {
      "text/plain": [
       "0"
      ]
     },
     "execution_count": 78,
     "metadata": {},
     "output_type": "execute_result"
    }
   ],
   "source": [
    "M[0][2]"
   ]
  },
  {
   "cell_type": "code",
   "execution_count": null,
   "id": "86e0b1f6-fef9-4aed-81b6-1f64dcffe584",
   "metadata": {},
   "outputs": [],
   "source": [
    "def "
   ]
  }
 ],
 "metadata": {
  "kernelspec": {
   "display_name": "Python 3 (ipykernel)",
   "language": "python",
   "name": "python3"
  },
  "language_info": {
   "codemirror_mode": {
    "name": "ipython",
    "version": 3
   },
   "file_extension": ".py",
   "mimetype": "text/x-python",
   "name": "python",
   "nbconvert_exporter": "python",
   "pygments_lexer": "ipython3",
   "version": "3.12.4"
  }
 },
 "nbformat": 4,
 "nbformat_minor": 5
}
